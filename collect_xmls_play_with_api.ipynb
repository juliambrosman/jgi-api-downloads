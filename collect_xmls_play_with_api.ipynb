{
 "cells": [
  {
   "cell_type": "code",
   "execution_count": 8,
   "id": "73bb6a74-1c4f-463c-b79a-f44532f7efe0",
   "metadata": {},
   "outputs": [],
   "source": [
    "import xml.etree.ElementTree as ET\n",
    "import pandas as pd\n",
    "import os\n",
    "import glob\n",
    "import sarge"
   ]
  },
  {
   "cell_type": "code",
   "execution_count": 5,
   "id": "d7dbeb89-f4cf-4872-9a7f-f456e1b26578",
   "metadata": {},
   "outputs": [],
   "source": [
    "def read_config(conf = \".img_config\"):\n",
    "    '''\n",
    "    parses config file with two lines, first line being the username, second being the password\n",
    "    Args:\n",
    "        conf: path to config file\n",
    "    Returns:\n",
    "        username, password\n",
    "    '''\n",
    "    name, password = [i.strip() for i in open(conf).readlines()]\n",
    "    return name, password\n",
    "\n",
    "\n",
    "database = 'https://genome.jgi.doe.gov'"
   ]
  },
  {
   "cell_type": "code",
   "execution_count": 6,
   "id": "d3dbf3fc-a594-4f62-b34e-cb04de693c2e",
   "metadata": {},
   "outputs": [],
   "source": [
    "name, password = read_config()"
   ]
  },
  {
   "cell_type": "markdown",
   "id": "c0a6e175-a6db-4b1e-a2cb-1ad24b0de474",
   "metadata": {},
   "source": [
    "Establishing a connection with the genomes database"
   ]
  },
  {
   "cell_type": "code",
   "execution_count": 4,
   "id": "657d7117-1dca-4b94-9505-43694042cf01",
   "metadata": {},
   "outputs": [
    {
     "name": "stdout",
     "output_type": "stream",
     "text": [
      "  % Total    % Received % Xferd  Average Speed   Time    Time     Time  Current\n",
      "                                 Dload  Upload   Total   Spent    Left  Speed\n",
      "100   164    0   107  100    57    181     96 --:--:-- --:--:-- --:--:--   278\n"
     ]
    }
   ],
   "source": [
    "curl_login_cmd = \"curl 'https://signon.jgi.doe.gov/signon/create' \\\n",
    "            --data-urlencode 'login={name}' --data-urlencode \\\n",
    "            'password={password}' -c cookies > /dev/null\".format(name = name, \n",
    "                                                                 password = password)\n",
    "\n",
    "print(curl_login_cmd)\n",
    "!{curl_login_cmd}"
   ]
  },
  {
   "cell_type": "markdown",
   "id": "14e06b14-9b45-4d41-a6d5-f65b2bf22488",
   "metadata": {},
   "source": [
    "Download xml file based on portal id"
   ]
  },
  {
   "cell_type": "code",
   "execution_count": 14,
   "id": "33e16ef3-e0d9-4fbe-bb89-7e99910ac72d",
   "metadata": {},
   "outputs": [
    {
     "name": "stdout",
     "output_type": "stream",
     "text": [
      "curl 'https://genome.jgi.doe.gov/portal/ext-api/downloads/get-directory?organism=OKS_WetSedge1_19_FD' -b cookies > OKS_WetSedge1_19_FD.xml \n",
      "\n",
      "output file is OKS_WetSedge1_19_FD.xml\n",
      "  % Total    % Received % Xferd  Average Speed   Time    Time     Time  Current\n",
      "                                 Dload  Upload   Total   Spent    Left  Speed\n",
      "  0     0    0     0    0     0      0      0 --:--:-- --:--:-- --:--:--     0\n"
     ]
    }
   ],
   "source": [
    "portal_id = 'OKS_WetSedge1_19_FD'\n",
    "\n",
    "curlcmd = \"curl '{database}/portal/ext-api/downloads/get-directory?organism={portal_id}' -b cookies > {portal_id}.xml\".format(database = database,\n",
    "                                                                                                                          portal_id = portal_id)\n",
    "\n",
    "\n",
    "print(curlcmd, \"\\n\")\n",
    "print('output file is {portal_id}.xml'.format(portal_id = portal_id), )\n",
    "!{curlcmd}"
   ]
  },
  {
   "cell_type": "markdown",
   "id": "98b85eb5-09bd-4177-973f-b7dfa5ab4c47",
   "metadata": {},
   "source": [
    "Now this downloaded xml file can be used to figure out how to download various data files via IMG's API."
   ]
  },
  {
   "cell_type": "code",
   "execution_count": 15,
   "id": "bf6312ec-8568-4d02-be53-cec1a6652901",
   "metadata": {},
   "outputs": [],
   "source": [
    "xml = '{portal_id}.xml'.format(portal_id = portal_id)"
   ]
  },
  {
   "cell_type": "code",
   "execution_count": 16,
   "id": "f311328c-e09a-471b-840a-6adf534eaddb",
   "metadata": {},
   "outputs": [
    {
     "ename": "ParseError",
     "evalue": "no element found: line 1, column 0 (<string>)",
     "output_type": "error",
     "traceback": [
      "Traceback \u001b[0;36m(most recent call last)\u001b[0m:\n",
      "  File \u001b[1;32m\"/mnt/scgc/scgc_nfs/opt/common/anaconda3a/envs/julia/lib/python3.6/site-packages/IPython/core/interactiveshell.py\"\u001b[0m, line \u001b[1;32m3326\u001b[0m, in \u001b[1;35mrun_code\u001b[0m\n    exec(code_obj, self.user_global_ns, self.user_ns)\n",
      "  File \u001b[1;32m\"<ipython-input-16-ff6594133a62>\"\u001b[0m, line \u001b[1;32m1\u001b[0m, in \u001b[1;35m<module>\u001b[0m\n    tree = ET.parse(xml)\n",
      "  File \u001b[1;32m\"/mnt/scgc/scgc_nfs/opt/common/anaconda3a/envs/julia/lib/python3.6/xml/etree/ElementTree.py\"\u001b[0m, line \u001b[1;32m1196\u001b[0m, in \u001b[1;35mparse\u001b[0m\n    tree.parse(source, parser)\n",
      "\u001b[0;36m  File \u001b[0;32m\"/mnt/scgc/scgc_nfs/opt/common/anaconda3a/envs/julia/lib/python3.6/xml/etree/ElementTree.py\"\u001b[0;36m, line \u001b[0;32m597\u001b[0;36m, in \u001b[0;35mparse\u001b[0;36m\u001b[0m\n\u001b[0;31m    self._root = parser._parse_whole(source)\u001b[0m\n",
      "\u001b[0;36m  File \u001b[0;32m\"<string>\"\u001b[0;36m, line \u001b[0;32munknown\u001b[0m\n\u001b[0;31mParseError\u001b[0m\u001b[0;31m:\u001b[0m no element found: line 1, column 0\n"
     ]
    }
   ],
   "source": [
    "tree = ET.parse(xml)\n",
    "root = tree.getroot()"
   ]
  },
  {
   "cell_type": "code",
   "execution_count": 3,
   "id": "a881837a-32e4-403e-9eee-20deb5601183",
   "metadata": {},
   "outputs": [],
   "source": []
  },
  {
   "cell_type": "code",
   "execution_count": 6,
   "id": "44a13123-4dc5-4e42-ad63-6d431cb8cdb3",
   "metadata": {},
   "outputs": [
    {
     "data": {
      "text/plain": [
       "{'name': 'OKS_Pond6_8July2_FD'}"
      ]
     },
     "execution_count": 6,
     "metadata": {},
     "output_type": "execute_result"
    }
   ],
   "source": [
    "root.attrib"
   ]
  },
  {
   "cell_type": "code",
   "execution_count": 21,
   "id": "5d899674-4965-4781-9de1-40300d5a2af9",
   "metadata": {},
   "outputs": [
    {
     "name": "stdout",
     "output_type": "stream",
     "text": [
      "Sequencing QC Reports\n",
      "Raw Data\n",
      "QC and Genome Assembly\n",
      "Metagenome Report Tables\n",
      "IMG Data\n",
      "Filtered Raw Data\n"
     ]
    }
   ],
   "source": [
    "for child in root:\n",
    "    if child.attrib['name'] == 'Binning Data':\n",
    "        binchild = child\n",
    "    else:\n",
    "        print(child.attrib['name'])"
   ]
  },
  {
   "cell_type": "code",
   "execution_count": 6,
   "id": "66cf89a8-395a-4546-b1d1-913ee3e1c118",
   "metadata": {},
   "outputs": [],
   "source": [
    "xmls = glob.glob('*2019.xml')"
   ]
  },
  {
   "cell_type": "code",
   "execution_count": 84,
   "id": "ea755152-7667-46d9-9ce2-4662c2eeda64",
   "metadata": {},
   "outputs": [],
   "source": [
    "xml = xmls[0]\n",
    "\n",
    "tree = ET.parse(xml)\n",
    "root = tree.getroot()\n",
    "\n",
    "mgid = os.path.basename(xml).split(\".\")[0]\n",
    "\n",
    "outdir = mgid\n",
    "\n",
    "if not os.path.exists(outdir):\n",
    "    os.mkdir(outdir)"
   ]
  },
  {
   "cell_type": "code",
   "execution_count": 85,
   "id": "6a312d89-bdb8-4712-aa6b-337a79143445",
   "metadata": {},
   "outputs": [
    {
     "name": "stdout",
     "output_type": "stream",
     "text": [
      "{'name': 'Sequencing QC Reports'}\n",
      "{'name': 'Raw Data'}\n",
      "{'name': 'QC and Genome Assembly'}\n",
      "{'name': 'Metagenome Report Tables'}\n",
      "{'name': 'IMG Data'}\n",
      "{'name': 'Filtered Raw Data'}\n",
      "{'name': 'Binning Data'}\n"
     ]
    }
   ],
   "source": [
    "for child in root:\n",
    "    print(child.attrib)"
   ]
  },
  {
   "cell_type": "code",
   "execution_count": 10,
   "id": "9b5c8f1f-2aee-4423-bc10-c4bdfe1779ec",
   "metadata": {},
   "outputs": [],
   "source": [
    "def curlcmd(url, database, destout):\n",
    "    \n",
    "    return \"curl '{database}{url}' -b cookies > {destout}\".format(database = database,\n",
    "                                                    url = url, \n",
    "                                                    destout = destout)"
   ]
  },
  {
   "cell_type": "code",
   "execution_count": 66,
   "id": "3552a239-d73e-4673-a9ae-5d19a032dfed",
   "metadata": {
    "tags": []
   },
   "outputs": [
    {
     "name": "stdout",
     "output_type": "stream",
     "text": [
      "  % Total    % Received % Xferd  Average Speed   Time    Time     Time  Current\n",
      "                                 Dload  Upload   Total   Spent    Left  Speed\n",
      "100 3733k    0 3733k    0     0  2226k      0 --:--:--  0:00:01 --:--:-- 2227k\n",
      "  % Total    % Received % Xferd  Average Speed   Time    Time     Time  Current\n",
      "                                 Dload  Upload   Total   Spent    Left  Speed\n",
      "100  591k    0  591k    0     0   539k      0 --:--:--  0:00:01 --:--:--  539k\n",
      "  % Total    % Received % Xferd  Average Speed   Time    Time     Time  Current\n",
      "                                 Dload  Upload   Total   Spent    Left  Speed\n",
      "100  985k    0  985k    0     0  1311k      0 --:--:-- --:--:-- --:--:-- 1310k\n",
      "  % Total    % Received % Xferd  Average Speed   Time    Time     Time  Current\n",
      "                                 Dload  Upload   Total   Spent    Left  Speed\n",
      "100 2018k    0 2018k    0     0  1737k      0 --:--:--  0:00:01 --:--:-- 1738k\n",
      "  % Total    % Received % Xferd  Average Speed   Time    Time     Time  Current\n",
      "                                 Dload  Upload   Total   Spent    Left  Speed\n",
      "100 1530k    0 1530k    0     0   876k      0 --:--:--  0:00:01 --:--:--  876k\n",
      "  % Total    % Received % Xferd  Average Speed   Time    Time     Time  Current\n",
      "                                 Dload  Upload   Total   Spent    Left  Speed\n",
      "100 2048k    0 2048k    0     0  2241k      0 --:--:-- --:--:-- --:--:-- 2241k\n",
      "  % Total    % Received % Xferd  Average Speed   Time    Time     Time  Current\n",
      "                                 Dload  Upload   Total   Spent    Left  Speed\n",
      "100 1558k    0 1558k    0     0  1917k      0 --:--:-- --:--:-- --:--:-- 1916k\n",
      "  % Total    % Received % Xferd  Average Speed   Time    Time     Time  Current\n",
      "                                 Dload  Upload   Total   Spent    Left  Speed\n",
      "100 1327k    0 1327k    0     0  1798k      0 --:--:-- --:--:-- --:--:-- 1798k\n",
      "  % Total    % Received % Xferd  Average Speed   Time    Time     Time  Current\n",
      "                                 Dload  Upload   Total   Spent    Left  Speed\n",
      "100 2476k    0 2476k    0     0  3042k      0 --:--:-- --:--:-- --:--:-- 3046k\n",
      "  % Total    % Received % Xferd  Average Speed   Time    Time     Time  Current\n",
      "                                 Dload  Upload   Total   Spent    Left  Speed\n",
      "100 1786k    0 1786k    0     0  2175k      0 --:--:-- --:--:-- --:--:-- 2175k\n",
      "  % Total    % Received % Xferd  Average Speed   Time    Time     Time  Current\n",
      "                                 Dload  Upload   Total   Spent    Left  Speed\n",
      "100 1481k    0 1481k    0     0  1806k      0 --:--:-- --:--:-- --:--:-- 1808k\n",
      "  % Total    % Received % Xferd  Average Speed   Time    Time     Time  Current\n",
      "                                 Dload  Upload   Total   Spent    Left  Speed\n",
      "100 1976k    0 1976k    0     0  2740k      0 --:--:-- --:--:-- --:--:-- 2738k\n",
      "  % Total    % Received % Xferd  Average Speed   Time    Time     Time  Current\n",
      "                                 Dload  Upload   Total   Spent    Left  Speed\n",
      "100 1706k    0 1706k    0     0  1487k      0 --:--:--  0:00:01 --:--:-- 1488k\n",
      "  % Total    % Received % Xferd  Average Speed   Time    Time     Time  Current\n",
      "                                 Dload  Upload   Total   Spent    Left  Speed\n",
      "100  863k    0  863k    0     0  1444k      0 --:--:-- --:--:-- --:--:-- 1443k\n",
      "  % Total    % Received % Xferd  Average Speed   Time    Time     Time  Current\n",
      "                                 Dload  Upload   Total   Spent    Left  Speed\n",
      "100 2160k    0 2160k    0     0  2581k      0 --:--:-- --:--:-- --:--:-- 2580k\n",
      "  % Total    % Received % Xferd  Average Speed   Time    Time     Time  Current\n",
      "                                 Dload  Upload   Total   Spent    Left  Speed\n",
      "100 3224k    0 3224k    0     0  3081k      0 --:--:--  0:00:01 --:--:-- 3082k\n",
      "  % Total    % Received % Xferd  Average Speed   Time    Time     Time  Current\n",
      "                                 Dload  Upload   Total   Spent    Left  Speed\n",
      "100 2274k    0 2274k    0     0  2562k      0 --:--:-- --:--:-- --:--:-- 2561k\n",
      "  % Total    % Received % Xferd  Average Speed   Time    Time     Time  Current\n",
      "                                 Dload  Upload   Total   Spent    Left  Speed\n",
      "100 2316k    0 2316k    0     0  2088k      0 --:--:--  0:00:01 --:--:-- 2090k\n",
      "  % Total    % Received % Xferd  Average Speed   Time    Time     Time  Current\n",
      "                                 Dload  Upload   Total   Spent    Left  Speed\n",
      "100 2546k    0 2546k    0     0  1671k      0 --:--:--  0:00:01 --:--:-- 1671k\n",
      "  % Total    % Received % Xferd  Average Speed   Time    Time     Time  Current\n",
      "                                 Dload  Upload   Total   Spent    Left  Speed\n",
      "100 2187k    0 2187k    0     0  2412k      0 --:--:-- --:--:-- --:--:-- 2411k\n",
      "  % Total    % Received % Xferd  Average Speed   Time    Time     Time  Current\n",
      "                                 Dload  Upload   Total   Spent    Left  Speed\n",
      "100 3387k    0 3387k    0     0  1691k      0 --:--:--  0:00:02 --:--:-- 1692k\n",
      "  % Total    % Received % Xferd  Average Speed   Time    Time     Time  Current\n",
      "                                 Dload  Upload   Total   Spent    Left  Speed\n",
      "100  995k    0  995k    0     0  1305k      0 --:--:-- --:--:-- --:--:-- 1304k\n",
      "  % Total    % Received % Xferd  Average Speed   Time    Time     Time  Current\n",
      "                                 Dload  Upload   Total   Spent    Left  Speed\n",
      "100 1616k    0 1616k    0     0  1230k      0 --:--:--  0:00:01 --:--:-- 1230k\n",
      "  % Total    % Received % Xferd  Average Speed   Time    Time     Time  Current\n",
      "                                 Dload  Upload   Total   Spent    Left  Speed\n",
      "100 1513k    0 1513k    0     0  1178k      0 --:--:--  0:00:01 --:--:-- 1179k\n",
      "  % Total    % Received % Xferd  Average Speed   Time    Time     Time  Current\n",
      "                                 Dload  Upload   Total   Spent    Left  Speed\n",
      "100 2416k    0 2416k    0     0  2901k      0 --:--:-- --:--:-- --:--:-- 2900k\n"
     ]
    }
   ],
   "source": [
    "# bins\n",
    "bindir = os.path.join(outdir, 'bins')\n",
    "\n",
    "if not os.path.exists(bindir):\n",
    "    os.mkdir(bindir)\n",
    "\n",
    "for child in binchild:\n",
    "    filename = child.attrib['filename']\n",
    "    url = child.attrib['url']\n",
    "    destout = os.path.join(bindir, filename)\n",
    "\n",
    "    if not os.path.exists(destout):\n",
    "        !{curlcmd(url, database, destout)}"
   ]
  },
  {
   "cell_type": "code",
   "execution_count": 67,
   "id": "0d0a5eeb-e76b-4ef7-b9d3-a5333ca37f5a",
   "metadata": {},
   "outputs": [
    {
     "name": "stdout",
     "output_type": "stream",
     "text": [
      "  % Total    % Received % Xferd  Average Speed   Time    Time     Time  Current\n",
      "                                 Dload  Upload   Total   Spent    Left  Speed\n",
      "100  3647  100  3647    0     0   7833      0 --:--:-- --:--:-- --:--:--  7843\n",
      "  % Total    % Received % Xferd  Average Speed   Time    Time     Time  Current\n",
      "                                 Dload  Upload   Total   Spent    Left  Speed\n",
      "100 23.4G    0 23.4G    0     0  35.6M      0 --:--:--  0:11:15 --:--:-- 49.8M--:-- --:--:-- 19256   0  44.0M      0 --:--:--  0:01:37 --:--:-- 42.5M--:--  0:02:10 --:--:-- 37.5M  0 --:--:--  0:05:12 --:--:-- 6208k05:35 --:--:-- 4548k  0:06:00 --:--:-- 21.1MG    0     0  28.8M      0 --:--:--  0:06:26 --:--:-- 44.7M 0:06:43 --:--:-- 40.4M-:--:--  0:09:14 --:--:-- 51.0M\n"
     ]
    }
   ],
   "source": [
    "# Filtered Raw Data\n",
    "frddir = os.path.join(outdir, 'filtered_raw_data')\n",
    "keep_file_phrases = ['filtered-report', 'METAGENOME.fastq.gz']\n",
    "\n",
    "if not os.path.exists(frddir):\n",
    "    os.mkdir(frddir)\n",
    "\n",
    "for child in root:\n",
    "    if child.attrib['name'] == 'Filtered Raw Data':\n",
    "        \n",
    "        for frchild in child:\n",
    "            for phrase in keep_file_phrases:\n",
    "                if phrase in frchild.attrib['filename']:\n",
    "                    filename = frchild.attrib['filename']\n",
    "\n",
    "                    destout = os.path.join(frddir, filename)\n",
    "                    url = frchild.attrib['url']\n",
    "\n",
    "                    if not os.path.exists(destout):\n",
    "                        !{curlcmd(url, database, destout)}\n"
   ]
  },
  {
   "cell_type": "code",
   "execution_count": 70,
   "id": "da5d07ed-9823-47dc-8f2c-75831b83379f",
   "metadata": {},
   "outputs": [
    {
     "name": "stdout",
     "output_type": "stream",
     "text": [
      "  % Total    % Received % Xferd  Average Speed   Time    Time     Time  Current\n",
      "                                 Dload  Upload   Total   Spent    Left  Speed\n",
      "100 3355M    0 3355M    0     0  5045k      0 --:--:--  0:11:20 --:--:-- 18.5M34 --:--:-- 3807k40 --:--:-- 3080kk      0 --:--:--  0:08:45 --:--:-- 3803k\n"
     ]
    }
   ],
   "source": [
    "# QC and Genome Assembly\n",
    "\n",
    "qcadir = os.path.join(outdir, 'qc_and_assembly')\n",
    "\n",
    "if not os.path.exists(qcadir):\n",
    "    os.mkdir(qcadir)\n",
    "    \n",
    "for child in root:\n",
    "    if child.attrib['name'] == 'QC and Genome Assembly':\n",
    "        for qchild in child:\n",
    "            for stepchild in qchild:\n",
    "                if stepchild.attrib['filename'] == 'assembly.contigs.fasta':\n",
    "                    filename = stepchild.attrib['filename']\n",
    "                    url = stepchild.attrib['url']\n",
    "\n",
    "                    destout = os.path.join(qcadir, filename)\n",
    "                    url = stepchild.attrib['url']\n",
    "\n",
    "                    if not os.path.exists(destout):\n",
    "                        sarge.run(curlcmd(url, database, destout))"
   ]
  },
  {
   "cell_type": "code",
   "execution_count": 79,
   "id": "fa120fd0-984e-4631-8c84-93711674233a",
   "metadata": {},
   "outputs": [],
   "source": [
    "mgtbldir = os.path.join(outdir, 'mg_report_tables')\n",
    "\n",
    "if not os.path.exists(mgtbldir):\n",
    "    os.mkdir(mgtbldir)\n",
    "\n",
    "\n",
    "for child in root:\n",
    "    if child.attrib['name'] == 'Metagenome Report Tables':\n",
    "        for stepchild in child:\n",
    "            filename = stepchild.attrib['filename']\n",
    "            url = stepchild.attrib['url']\n",
    "            \n",
    "            destout = os.path.join(mgtbldir, filename)\n",
    "            if not os.path.exists(destout):\n",
    "                sarge.run(curlcmd(url, database, destout))"
   ]
  },
  {
   "cell_type": "code",
   "execution_count": 82,
   "id": "80925090-d9d5-446d-90b6-18d20f15e861",
   "metadata": {},
   "outputs": [
    {
     "name": "stdout",
     "output_type": "stream",
     "text": [
      "curl 'https://genome.jgi.doe.gov/portal/ext-api/downloads/get_tape_file?blocking=true&url=/OKS_Pond6_8July2_2/download/_JAMO/60e644c6c399d4ad32fe5440/3300045971.tar.gz' -b cookies > OKS_Pond6_19July2019/img_data/3300045971.tar.gz\n"
     ]
    }
   ],
   "source": [
    "imgdir = os.path.join(outdir, 'img_data')\n",
    "\n",
    "if not os.path.exists(imgdir):\n",
    "    os.mkdir(imgdir)\n",
    "\n",
    "for child in root:\n",
    "    if child.attrib['name'] == 'IMG Data':\n",
    "        for stepchild in child:\n",
    "            filename = stepchild.attrib['filename']\n",
    "            if filename.endswith('.tar.gz'):\n",
    "                url = stepchild.attrib['url']\n",
    "\n",
    "                destout = os.path.join(imgdir, filename)\n",
    "\n",
    "                sarge.run(curlcmd(url, database, destout))"
   ]
  },
  {
   "cell_type": "code",
   "execution_count": null,
   "id": "29f74520-6186-495f-ba34-6dca03f5c2a9",
   "metadata": {},
   "outputs": [],
   "source": [
    "mgtbldir = os.path.join(outdir, 'mg_report_tables')\n",
    "\n",
    "if not os.path.exists(mgtbldir):\n",
    "    os.mkdir(mgtbldir)\n",
    "\n",
    "\n",
    "for child in root:\n",
    "    if child.attrib['name'] == 'Metagenome Report Tables':\n",
    "        for stepchild in child:\n",
    "            filename = stepchild.attrib['filename']\n",
    "            url = stepchild.attrib['url']\n",
    "            \n",
    "            destout = os.path.join(mgtbldir, filename)\n",
    "            if not os.path.exists(destout):\n",
    "                sarge.run(curlcmd(url, database, destout))"
   ]
  },
  {
   "cell_type": "code",
   "execution_count": null,
   "id": "1bce32d7-bc19-4f27-9b33-519c36880220",
   "metadata": {},
   "outputs": [],
   "source": []
  }
 ],
 "metadata": {
  "kernelspec": {
   "display_name": "julia",
   "language": "python",
   "name": "julia"
  },
  "language_info": {
   "codemirror_mode": {
    "name": "ipython",
    "version": 3
   },
   "file_extension": ".py",
   "mimetype": "text/x-python",
   "name": "python",
   "nbconvert_exporter": "python",
   "pygments_lexer": "ipython3",
   "version": "3.6.7"
  }
 },
 "nbformat": 4,
 "nbformat_minor": 5
}
