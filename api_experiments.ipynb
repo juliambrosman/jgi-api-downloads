{
 "cells": [
  {
   "cell_type": "code",
   "execution_count": 2,
   "id": "73bb6a74-1c4f-463c-b79a-f44532f7efe0",
   "metadata": {},
   "outputs": [],
   "source": [
    "import xml.etree.ElementTree as ET\n",
    "import pandas as pd\n",
    "import os\n",
    "import glob\n",
    "import sarge"
   ]
  },
  {
   "cell_type": "code",
   "execution_count": 3,
   "id": "d7dbeb89-f4cf-4872-9a7f-f456e1b26578",
   "metadata": {},
   "outputs": [],
   "source": [
    "username='img_er_username_here'\n",
    "password='img_er_password_here'\n",
    "\n",
    "database = 'https://genome.jgi.doe.gov'"
   ]
  },
  {
   "cell_type": "code",
   "execution_count": 4,
   "id": "657d7117-1dca-4b94-9505-43694042cf01",
   "metadata": {},
   "outputs": [
    {
     "name": "stdout",
     "output_type": "stream",
     "text": [
      "  % Total    % Received % Xferd  Average Speed   Time    Time     Time  Current\n",
      "                                 Dload  Upload   Total   Spent    Left  Speed\n",
      "100   164    0   107  100    57    181     96 --:--:-- --:--:-- --:--:--   278\n"
     ]
    }
   ],
   "source": [
    "!curl 'https://signon.jgi.doe.gov/signon/create' --data-urlencode 'login=jmb636@cornell.edu' --data-urlencode 'password=rzx4KHQ2ejw@twu_czw' -c cookies > /dev/null"
   ]
  },
  {
   "cell_type": "code",
   "execution_count": 8,
   "id": "33e16ef3-e0d9-4fbe-bb89-7e99910ac72d",
   "metadata": {},
   "outputs": [
    {
     "name": "stdout",
     "output_type": "stream",
     "text": [
      "  % Total    % Received % Xferd  Average Speed   Time    Time     Time  Current\n",
      "                                 Dload  Upload   Total   Spent    Left  Speed\n",
      "100 41195    0 41195    0     0  35436      0 --:--:--  0:00:01 --:--:-- 35451\n",
      "  % Total    % Received % Xferd  Average Speed   Time    Time     Time  Current\n",
      "                                 Dload  Upload   Total   Spent    Left  Speed\n",
      "100 37996    0 37996    0     0  33089      0 --:--:--  0:00:01 --:--:-- 33097\n",
      "  % Total    % Received % Xferd  Average Speed   Time    Time     Time  Current\n",
      "                                 Dload  Upload   Total   Spent    Left  Speed\n",
      "100 38187    0 38187    0     0  33045      0 --:--:--  0:00:01 --:--:-- 33062\n",
      "  % Total    % Received % Xferd  Average Speed   Time    Time     Time  Current\n",
      "                                 Dload  Upload   Total   Spent    Left  Speed\n",
      "100 37696    0 37696    0     0  36442      0 --:--:--  0:00:01 --:--:-- 36456\n",
      "  % Total    % Received % Xferd  Average Speed   Time    Time     Time  Current\n",
      "                                 Dload  Upload   Total   Spent    Left  Speed\n",
      "100 35397    0 35397    0     0  28930      0 --:--:--  0:00:01 --:--:-- 28942:00:01 --:--:--  7085\n",
      "  % Total    % Received % Xferd  Average Speed   Time    Time     Time  Current\n",
      "                                 Dload  Upload   Total   Spent    Left  Speed\n",
      "100 39248    0 39248    0     0  19340      0 --:--:--  0:00:02 --:--:-- 19343\n",
      "  % Total    % Received % Xferd  Average Speed   Time    Time     Time  Current\n",
      "                                 Dload  Upload   Total   Spent    Left  Speed\n",
      "100 40308    0 40308    0     0  23499      0 --:--:--  0:00:01 --:--:-- 23489\n",
      "  % Total    % Received % Xferd  Average Speed   Time    Time     Time  Current\n",
      "                                 Dload  Upload   Total   Spent    Left  Speed\n",
      "100 44608    0 44608    0     0  11984      0 --:--:--  0:00:03 --:--:-- 11984\n",
      "  % Total    % Received % Xferd  Average Speed   Time    Time     Time  Current\n",
      "                                 Dload  Upload   Total   Spent    Left  Speed\n",
      "100 33299    0 33299    0     0   5410      0 --:--:--  0:00:06 --:--:--  8434\n",
      "  % Total    % Received % Xferd  Average Speed   Time    Time     Time  Current\n",
      "                                 Dload  Upload   Total   Spent    Left  Speed\n",
      "100 34063    0 34063    0     0  17702      0 --:--:--  0:00:01 --:--:-- 17695\n",
      "  % Total    % Received % Xferd  Average Speed   Time    Time     Time  Current\n",
      "                                 Dload  Upload   Total   Spent    Left  Speed\n",
      "100 33294    0 33294    0     0  17561      0 --:--:--  0:00:01 --:--:-- 17560\n",
      "  % Total    % Received % Xferd  Average Speed   Time    Time     Time  Current\n",
      "                                 Dload  Upload   Total   Spent    Left  Speed\n",
      "100 33288    0 33288    0     0   7371      0 --:--:--  0:00:04 --:--:--  7721\n",
      "  % Total    % Received % Xferd  Average Speed   Time    Time     Time  Current\n",
      "                                 Dload  Upload   Total   Spent    Left  Speed\n",
      "100 31709    0 31709    0     0  34805      0 --:--:-- --:--:-- --:--:-- 34806\n",
      "  % Total    % Received % Xferd  Average Speed   Time    Time     Time  Current\n",
      "                                 Dload  Upload   Total   Spent    Left  Speed\n",
      "100 40525    0 40525    0     0  44140      0 --:--:-- --:--:-- --:--:-- 44144\n",
      "  % Total    % Received % Xferd  Average Speed   Time    Time     Time  Current\n",
      "                                 Dload  Upload   Total   Spent    Left  Speed\n",
      "100 39242    0 39242    0     0  26913      0 --:--:--  0:00:01 --:--:-- 26914\n",
      "  % Total    % Received % Xferd  Average Speed   Time    Time     Time  Current\n",
      "                                 Dload  Upload   Total   Spent    Left  Speed\n",
      "100 42602    0 42602    0     0  35336      0 --:--:--  0:00:01 --:--:-- 35354\n",
      "  % Total    % Received % Xferd  Average Speed   Time    Time     Time  Current\n",
      "                                 Dload  Upload   Total   Spent    Left  Speed\n",
      "100 43830    0 43830    0     0  28692      0 --:--:--  0:00:01 --:--:-- 28684\n"
     ]
    }
   ],
   "source": [
    "df = pd.read_csv(\"metagenomes.csv\")\n",
    "\n",
    "for i,l in df.iterrows():\n",
    "    curlcmd = \"curl '{database}/portal/ext-api/downloads/get-directory?organism={portal_id}' -b cookies > {ID}.xml\".format(database = database,\n",
    "                                                                                                                          portal_id = l['portal_id'],\n",
    "                                                                                                                          ID = l['ID'])\n",
    "    !{curlcmd}"
   ]
  },
  {
   "cell_type": "code",
   "execution_count": null,
   "id": "54ad2b5d-e633-4579-b121-e13c783bf956",
   "metadata": {},
   "outputs": [],
   "source": [
    "curl 'https://genome.jgi.doe.gov/portal/ext-api/downloads/get_tape_file?blocking=true&url=/OKS_Pond6_8July2_2/download/_JAMO/60d4a8d6c399d4ad32fdddb6/rqc-stats.pdf' \\\n",
    "-b cookies > OKS_Pond6_8Juliy2_2__rqc-stats.pdf"
   ]
  },
  {
   "cell_type": "code",
   "execution_count": 1,
   "id": "7c3f96fa-d2f8-4a0d-a2d3-2cfa50e87799",
   "metadata": {},
   "outputs": [],
   "source": [
    "curl 'https://genome.jgi.doe.gov/portal/ext-api/downloads/get-directory?organism=TFS_WetSedge10_2_FD' -b cookies > TFS_WetSedge10_2_FD.xml"
   ]
  },
  {
   "cell_type": "code",
   "execution_count": 2,
   "id": "f311328c-e09a-471b-840a-6adf534eaddb",
   "metadata": {},
   "outputs": [],
   "source": [
    "tree = ET.parse('exe_jgi_genome_portal_map.xml')\n",
    "root = tree.getroot()"
   ]
  },
  {
   "cell_type": "code",
   "execution_count": 3,
   "id": "a881837a-32e4-403e-9eee-20deb5601183",
   "metadata": {},
   "outputs": [],
   "source": []
  },
  {
   "cell_type": "code",
   "execution_count": 6,
   "id": "44a13123-4dc5-4e42-ad63-6d431cb8cdb3",
   "metadata": {},
   "outputs": [
    {
     "data": {
      "text/plain": [
       "{'name': 'OKS_Pond6_8July2_FD'}"
      ]
     },
     "execution_count": 6,
     "metadata": {},
     "output_type": "execute_result"
    }
   ],
   "source": [
    "root.attrib"
   ]
  },
  {
   "cell_type": "code",
   "execution_count": 21,
   "id": "5d899674-4965-4781-9de1-40300d5a2af9",
   "metadata": {},
   "outputs": [
    {
     "name": "stdout",
     "output_type": "stream",
     "text": [
      "Sequencing QC Reports\n",
      "Raw Data\n",
      "QC and Genome Assembly\n",
      "Metagenome Report Tables\n",
      "IMG Data\n",
      "Filtered Raw Data\n"
     ]
    }
   ],
   "source": [
    "for child in root:\n",
    "    if child.attrib['name'] == 'Binning Data':\n",
    "        binchild = child\n",
    "    else:\n",
    "        print(child.attrib['name'])"
   ]
  },
  {
   "cell_type": "code",
   "execution_count": 6,
   "id": "66cf89a8-395a-4546-b1d1-913ee3e1c118",
   "metadata": {},
   "outputs": [],
   "source": [
    "xmls = glob.glob('*2019.xml')"
   ]
  },
  {
   "cell_type": "code",
   "execution_count": 84,
   "id": "ea755152-7667-46d9-9ce2-4662c2eeda64",
   "metadata": {},
   "outputs": [],
   "source": [
    "xml = xmls[0]\n",
    "\n",
    "tree = ET.parse(xml)\n",
    "root = tree.getroot()\n",
    "\n",
    "mgid = os.path.basename(xml).split(\".\")[0]\n",
    "\n",
    "outdir = mgid\n",
    "\n",
    "if not os.path.exists(outdir):\n",
    "    os.mkdir(outdir)"
   ]
  },
  {
   "cell_type": "code",
   "execution_count": 85,
   "id": "6a312d89-bdb8-4712-aa6b-337a79143445",
   "metadata": {},
   "outputs": [
    {
     "name": "stdout",
     "output_type": "stream",
     "text": [
      "{'name': 'Sequencing QC Reports'}\n",
      "{'name': 'Raw Data'}\n",
      "{'name': 'QC and Genome Assembly'}\n",
      "{'name': 'Metagenome Report Tables'}\n",
      "{'name': 'IMG Data'}\n",
      "{'name': 'Filtered Raw Data'}\n",
      "{'name': 'Binning Data'}\n"
     ]
    }
   ],
   "source": [
    "for child in root:\n",
    "    print(child.attrib)"
   ]
  },
  {
   "cell_type": "code",
   "execution_count": 10,
   "id": "9b5c8f1f-2aee-4423-bc10-c4bdfe1779ec",
   "metadata": {},
   "outputs": [],
   "source": [
    "def curlcmd(url, database, destout):\n",
    "    \n",
    "    return \"curl '{database}{url}' -b cookies > {destout}\".format(database = database,\n",
    "                                                    url = url, \n",
    "                                                    destout = destout)"
   ]
  },
  {
   "cell_type": "code",
   "execution_count": 66,
   "id": "3552a239-d73e-4673-a9ae-5d19a032dfed",
   "metadata": {
    "tags": []
   },
   "outputs": [
    {
     "name": "stdout",
     "output_type": "stream",
     "text": [
      "  % Total    % Received % Xferd  Average Speed   Time    Time     Time  Current\n",
      "                                 Dload  Upload   Total   Spent    Left  Speed\n",
      "100 3733k    0 3733k    0     0  2226k      0 --:--:--  0:00:01 --:--:-- 2227k\n",
      "  % Total    % Received % Xferd  Average Speed   Time    Time     Time  Current\n",
      "                                 Dload  Upload   Total   Spent    Left  Speed\n",
      "100  591k    0  591k    0     0   539k      0 --:--:--  0:00:01 --:--:--  539k\n",
      "  % Total    % Received % Xferd  Average Speed   Time    Time     Time  Current\n",
      "                                 Dload  Upload   Total   Spent    Left  Speed\n",
      "100  985k    0  985k    0     0  1311k      0 --:--:-- --:--:-- --:--:-- 1310k\n",
      "  % Total    % Received % Xferd  Average Speed   Time    Time     Time  Current\n",
      "                                 Dload  Upload   Total   Spent    Left  Speed\n",
      "100 2018k    0 2018k    0     0  1737k      0 --:--:--  0:00:01 --:--:-- 1738k\n",
      "  % Total    % Received % Xferd  Average Speed   Time    Time     Time  Current\n",
      "                                 Dload  Upload   Total   Spent    Left  Speed\n",
      "100 1530k    0 1530k    0     0   876k      0 --:--:--  0:00:01 --:--:--  876k\n",
      "  % Total    % Received % Xferd  Average Speed   Time    Time     Time  Current\n",
      "                                 Dload  Upload   Total   Spent    Left  Speed\n",
      "100 2048k    0 2048k    0     0  2241k      0 --:--:-- --:--:-- --:--:-- 2241k\n",
      "  % Total    % Received % Xferd  Average Speed   Time    Time     Time  Current\n",
      "                                 Dload  Upload   Total   Spent    Left  Speed\n",
      "100 1558k    0 1558k    0     0  1917k      0 --:--:-- --:--:-- --:--:-- 1916k\n",
      "  % Total    % Received % Xferd  Average Speed   Time    Time     Time  Current\n",
      "                                 Dload  Upload   Total   Spent    Left  Speed\n",
      "100 1327k    0 1327k    0     0  1798k      0 --:--:-- --:--:-- --:--:-- 1798k\n",
      "  % Total    % Received % Xferd  Average Speed   Time    Time     Time  Current\n",
      "                                 Dload  Upload   Total   Spent    Left  Speed\n",
      "100 2476k    0 2476k    0     0  3042k      0 --:--:-- --:--:-- --:--:-- 3046k\n",
      "  % Total    % Received % Xferd  Average Speed   Time    Time     Time  Current\n",
      "                                 Dload  Upload   Total   Spent    Left  Speed\n",
      "100 1786k    0 1786k    0     0  2175k      0 --:--:-- --:--:-- --:--:-- 2175k\n",
      "  % Total    % Received % Xferd  Average Speed   Time    Time     Time  Current\n",
      "                                 Dload  Upload   Total   Spent    Left  Speed\n",
      "100 1481k    0 1481k    0     0  1806k      0 --:--:-- --:--:-- --:--:-- 1808k\n",
      "  % Total    % Received % Xferd  Average Speed   Time    Time     Time  Current\n",
      "                                 Dload  Upload   Total   Spent    Left  Speed\n",
      "100 1976k    0 1976k    0     0  2740k      0 --:--:-- --:--:-- --:--:-- 2738k\n",
      "  % Total    % Received % Xferd  Average Speed   Time    Time     Time  Current\n",
      "                                 Dload  Upload   Total   Spent    Left  Speed\n",
      "100 1706k    0 1706k    0     0  1487k      0 --:--:--  0:00:01 --:--:-- 1488k\n",
      "  % Total    % Received % Xferd  Average Speed   Time    Time     Time  Current\n",
      "                                 Dload  Upload   Total   Spent    Left  Speed\n",
      "100  863k    0  863k    0     0  1444k      0 --:--:-- --:--:-- --:--:-- 1443k\n",
      "  % Total    % Received % Xferd  Average Speed   Time    Time     Time  Current\n",
      "                                 Dload  Upload   Total   Spent    Left  Speed\n",
      "100 2160k    0 2160k    0     0  2581k      0 --:--:-- --:--:-- --:--:-- 2580k\n",
      "  % Total    % Received % Xferd  Average Speed   Time    Time     Time  Current\n",
      "                                 Dload  Upload   Total   Spent    Left  Speed\n",
      "100 3224k    0 3224k    0     0  3081k      0 --:--:--  0:00:01 --:--:-- 3082k\n",
      "  % Total    % Received % Xferd  Average Speed   Time    Time     Time  Current\n",
      "                                 Dload  Upload   Total   Spent    Left  Speed\n",
      "100 2274k    0 2274k    0     0  2562k      0 --:--:-- --:--:-- --:--:-- 2561k\n",
      "  % Total    % Received % Xferd  Average Speed   Time    Time     Time  Current\n",
      "                                 Dload  Upload   Total   Spent    Left  Speed\n",
      "100 2316k    0 2316k    0     0  2088k      0 --:--:--  0:00:01 --:--:-- 2090k\n",
      "  % Total    % Received % Xferd  Average Speed   Time    Time     Time  Current\n",
      "                                 Dload  Upload   Total   Spent    Left  Speed\n",
      "100 2546k    0 2546k    0     0  1671k      0 --:--:--  0:00:01 --:--:-- 1671k\n",
      "  % Total    % Received % Xferd  Average Speed   Time    Time     Time  Current\n",
      "                                 Dload  Upload   Total   Spent    Left  Speed\n",
      "100 2187k    0 2187k    0     0  2412k      0 --:--:-- --:--:-- --:--:-- 2411k\n",
      "  % Total    % Received % Xferd  Average Speed   Time    Time     Time  Current\n",
      "                                 Dload  Upload   Total   Spent    Left  Speed\n",
      "100 3387k    0 3387k    0     0  1691k      0 --:--:--  0:00:02 --:--:-- 1692k\n",
      "  % Total    % Received % Xferd  Average Speed   Time    Time     Time  Current\n",
      "                                 Dload  Upload   Total   Spent    Left  Speed\n",
      "100  995k    0  995k    0     0  1305k      0 --:--:-- --:--:-- --:--:-- 1304k\n",
      "  % Total    % Received % Xferd  Average Speed   Time    Time     Time  Current\n",
      "                                 Dload  Upload   Total   Spent    Left  Speed\n",
      "100 1616k    0 1616k    0     0  1230k      0 --:--:--  0:00:01 --:--:-- 1230k\n",
      "  % Total    % Received % Xferd  Average Speed   Time    Time     Time  Current\n",
      "                                 Dload  Upload   Total   Spent    Left  Speed\n",
      "100 1513k    0 1513k    0     0  1178k      0 --:--:--  0:00:01 --:--:-- 1179k\n",
      "  % Total    % Received % Xferd  Average Speed   Time    Time     Time  Current\n",
      "                                 Dload  Upload   Total   Spent    Left  Speed\n",
      "100 2416k    0 2416k    0     0  2901k      0 --:--:-- --:--:-- --:--:-- 2900k\n"
     ]
    }
   ],
   "source": [
    "# bins\n",
    "bindir = os.path.join(outdir, 'bins')\n",
    "\n",
    "if not os.path.exists(bindir):\n",
    "    os.mkdir(bindir)\n",
    "\n",
    "for child in binchild:\n",
    "    filename = child.attrib['filename']\n",
    "    url = child.attrib['url']\n",
    "    destout = os.path.join(bindir, filename)\n",
    "\n",
    "    if not os.path.exists(destout):\n",
    "        !{curlcmd(url, database, destout)}"
   ]
  },
  {
   "cell_type": "code",
   "execution_count": 67,
   "id": "0d0a5eeb-e76b-4ef7-b9d3-a5333ca37f5a",
   "metadata": {},
   "outputs": [
    {
     "name": "stdout",
     "output_type": "stream",
     "text": [
      "  % Total    % Received % Xferd  Average Speed   Time    Time     Time  Current\n",
      "                                 Dload  Upload   Total   Spent    Left  Speed\n",
      "100  3647  100  3647    0     0   7833      0 --:--:-- --:--:-- --:--:--  7843\n",
      "  % Total    % Received % Xferd  Average Speed   Time    Time     Time  Current\n",
      "                                 Dload  Upload   Total   Spent    Left  Speed\n",
      "100 23.4G    0 23.4G    0     0  35.6M      0 --:--:--  0:11:15 --:--:-- 49.8M--:-- --:--:-- 19256   0  44.0M      0 --:--:--  0:01:37 --:--:-- 42.5M--:--  0:02:10 --:--:-- 37.5M  0 --:--:--  0:05:12 --:--:-- 6208k05:35 --:--:-- 4548k  0:06:00 --:--:-- 21.1MG    0     0  28.8M      0 --:--:--  0:06:26 --:--:-- 44.7M 0:06:43 --:--:-- 40.4M-:--:--  0:09:14 --:--:-- 51.0M\n"
     ]
    }
   ],
   "source": [
    "# Filtered Raw Data\n",
    "frddir = os.path.join(outdir, 'filtered_raw_data')\n",
    "keep_file_phrases = ['filtered-report', 'METAGENOME.fastq.gz']\n",
    "\n",
    "if not os.path.exists(frddir):\n",
    "    os.mkdir(frddir)\n",
    "\n",
    "for child in root:\n",
    "    if child.attrib['name'] == 'Filtered Raw Data':\n",
    "        \n",
    "        for frchild in child:\n",
    "            for phrase in keep_file_phrases:\n",
    "                if phrase in frchild.attrib['filename']:\n",
    "                    filename = frchild.attrib['filename']\n",
    "\n",
    "                    destout = os.path.join(frddir, filename)\n",
    "                    url = frchild.attrib['url']\n",
    "\n",
    "                    if not os.path.exists(destout):\n",
    "                        !{curlcmd(url, database, destout)}\n"
   ]
  },
  {
   "cell_type": "code",
   "execution_count": 70,
   "id": "da5d07ed-9823-47dc-8f2c-75831b83379f",
   "metadata": {},
   "outputs": [
    {
     "name": "stdout",
     "output_type": "stream",
     "text": [
      "  % Total    % Received % Xferd  Average Speed   Time    Time     Time  Current\n",
      "                                 Dload  Upload   Total   Spent    Left  Speed\n",
      "100 3355M    0 3355M    0     0  5045k      0 --:--:--  0:11:20 --:--:-- 18.5M34 --:--:-- 3807k40 --:--:-- 3080kk      0 --:--:--  0:08:45 --:--:-- 3803k\n"
     ]
    }
   ],
   "source": [
    "# QC and Genome Assembly\n",
    "\n",
    "qcadir = os.path.join(outdir, 'qc_and_assembly')\n",
    "\n",
    "if not os.path.exists(qcadir):\n",
    "    os.mkdir(qcadir)\n",
    "    \n",
    "for child in root:\n",
    "    if child.attrib['name'] == 'QC and Genome Assembly':\n",
    "        for qchild in child:\n",
    "            for stepchild in qchild:\n",
    "                if stepchild.attrib['filename'] == 'assembly.contigs.fasta':\n",
    "                    filename = stepchild.attrib['filename']\n",
    "                    url = stepchild.attrib['url']\n",
    "\n",
    "                    destout = os.path.join(qcadir, filename)\n",
    "                    url = stepchild.attrib['url']\n",
    "\n",
    "                    if not os.path.exists(destout):\n",
    "                        sarge.run(curlcmd(url, database, destout))"
   ]
  },
  {
   "cell_type": "code",
   "execution_count": 79,
   "id": "fa120fd0-984e-4631-8c84-93711674233a",
   "metadata": {},
   "outputs": [],
   "source": [
    "mgtbldir = os.path.join(outdir, 'mg_report_tables')\n",
    "\n",
    "if not os.path.exists(mgtbldir):\n",
    "    os.mkdir(mgtbldir)\n",
    "\n",
    "\n",
    "for child in root:\n",
    "    if child.attrib['name'] == 'Metagenome Report Tables':\n",
    "        for stepchild in child:\n",
    "            filename = stepchild.attrib['filename']\n",
    "            url = stepchild.attrib['url']\n",
    "            \n",
    "            destout = os.path.join(mgtbldir, filename)\n",
    "            if not os.path.exists(destout):\n",
    "                sarge.run(curlcmd(url, database, destout))"
   ]
  },
  {
   "cell_type": "code",
   "execution_count": 82,
   "id": "80925090-d9d5-446d-90b6-18d20f15e861",
   "metadata": {},
   "outputs": [
    {
     "name": "stdout",
     "output_type": "stream",
     "text": [
      "curl 'https://genome.jgi.doe.gov/portal/ext-api/downloads/get_tape_file?blocking=true&url=/OKS_Pond6_8July2_2/download/_JAMO/60e644c6c399d4ad32fe5440/3300045971.tar.gz' -b cookies > OKS_Pond6_19July2019/img_data/3300045971.tar.gz\n"
     ]
    }
   ],
   "source": [
    "imgdir = os.path.join(outdir, 'img_data')\n",
    "\n",
    "if not os.path.exists(imgdir):\n",
    "    os.mkdir(imgdir)\n",
    "\n",
    "for child in root:\n",
    "    if child.attrib['name'] == 'IMG Data':\n",
    "        for stepchild in child:\n",
    "            filename = stepchild.attrib['filename']\n",
    "            if filename.endswith('.tar.gz'):\n",
    "                url = stepchild.attrib['url']\n",
    "\n",
    "                destout = os.path.join(imgdir, filename)\n",
    "\n",
    "                sarge.run(curlcmd(url, database, destout))"
   ]
  },
  {
   "cell_type": "code",
   "execution_count": null,
   "id": "29f74520-6186-495f-ba34-6dca03f5c2a9",
   "metadata": {},
   "outputs": [],
   "source": [
    "mgtbldir = os.path.join(outdir, 'mg_report_tables')\n",
    "\n",
    "if not os.path.exists(mgtbldir):\n",
    "    os.mkdir(mgtbldir)\n",
    "\n",
    "\n",
    "for child in root:\n",
    "    if child.attrib['name'] == 'Metagenome Report Tables':\n",
    "        for stepchild in child:\n",
    "            filename = stepchild.attrib['filename']\n",
    "            url = stepchild.attrib['url']\n",
    "            \n",
    "            destout = os.path.join(mgtbldir, filename)\n",
    "            if not os.path.exists(destout):\n",
    "                sarge.run(curlcmd(url, database, destout))"
   ]
  },
  {
   "cell_type": "code",
   "execution_count": null,
   "id": "1bce32d7-bc19-4f27-9b33-519c36880220",
   "metadata": {},
   "outputs": [],
   "source": []
  }
 ],
 "metadata": {
  "kernelspec": {
   "display_name": "julia",
   "language": "python",
   "name": "julia"
  },
  "language_info": {
   "codemirror_mode": {
    "name": "ipython",
    "version": 3
   },
   "file_extension": ".py",
   "mimetype": "text/x-python",
   "name": "python",
   "nbconvert_exporter": "python",
   "pygments_lexer": "ipython3",
   "version": "3.6.7"
  }
 },
 "nbformat": 4,
 "nbformat_minor": 5
}
